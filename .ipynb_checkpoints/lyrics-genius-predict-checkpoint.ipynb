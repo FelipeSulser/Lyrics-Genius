{
 "cells": [
  {
   "cell_type": "markdown",
   "metadata": {},
   "source": [
    "# Lyrics Genius Predict"
   ]
  },
  {
   "cell_type": "markdown",
   "metadata": {},
   "source": [
    "![Lyrics Genius Logo](LyricsGenius.png)\n",
    "\n",
    "Use this notebook if you already have a trained model from an artist and want to generate lyrics for a song."
   ]
  },
  {
   "cell_type": "markdown",
   "metadata": {},
   "source": [
    "# Imports"
   ]
  },
  {
   "cell_type": "code",
   "execution_count": 75,
   "metadata": {},
   "outputs": [],
   "source": [
    "from __future__ import print_function\n",
    "from keras.callbacks import LambdaCallback\n",
    "from keras.models import Model, load_model, Sequential\n",
    "from keras.layers import Dense, Activation, Dropout, Input, Masking, Embedding, InputLayer\n",
    "from keras.layers import LSTM, Lambda\n",
    "from keras.utils.vis_utils import plot_model\n",
    "import keras\n",
    "from keras.layers.merge import add\n",
    "import pydot\n",
    "import numpy as np\n",
    "from keras.utils.data_utils import get_file\n",
    "from keras.preprocessing.sequence import pad_sequences\n",
    "import sys\n",
    "from keras.preprocessing.text import Tokenizer\n",
    "from keras.preprocessing.sequence import pad_sequences\n",
    "import io\n",
    "import json\n",
    "import pickle\n",
    "import warnings\n",
    "warnings.filterwarnings('ignore')"
   ]
  },
  {
   "cell_type": "markdown",
   "metadata": {},
   "source": [
    "# Defining the Character Encoding Used"
   ]
  },
  {
   "cell_type": "code",
   "execution_count": 69,
   "metadata": {},
   "outputs": [],
   "source": [
    "alphabet_path = \"models/rhcp-alphabet.json\"\n",
    "tokenizer_path = \"models/rhcp-tokenizer.pkl\"\n",
    "Tx = 40"
   ]
  },
  {
   "cell_type": "code",
   "execution_count": 71,
   "metadata": {},
   "outputs": [],
   "source": [
    "tk = None\n",
    "alphabet = None\n",
    "\n",
    "# Load alphabet\n",
    "with open(alphabet_path, 'r') as fp:\n",
    "    alphabet = json.load(fp)\n",
    "    \n",
    "# Load tokenizer\n",
    "with open(tokenizer_path, 'rb') as fp:\n",
    "    tk = pickle.load(fp)\n",
    "\n",
    "\n",
    "# construct a new vocabulary\n",
    "char_dict = {}\n",
    "for i, char in enumerate(alphabet):\n",
    "    char_dict[char] = i + 1\n"
   ]
  },
  {
   "cell_type": "code",
   "execution_count": 72,
   "metadata": {},
   "outputs": [],
   "source": [
    "def sample(preds, temperature=1.0):\n",
    "    # helper function to sample an index from a probability array\n",
    "    preds = np.asarray(preds).astype('float64')\n",
    "    preds = np.log(preds) / temperature\n",
    "    exp_preds = np.exp(preds)\n",
    "    preds = exp_preds / np.sum(exp_preds)\n",
    "    probas = np.random.multinomial(1, preds, 1)\n",
    "    out = np.random.choice(range(len(chars)), p = probas.ravel())\n",
    "    return out"
   ]
  },
  {
   "cell_type": "markdown",
   "metadata": {},
   "source": [
    "# Loading the Model"
   ]
  },
  {
   "cell_type": "code",
   "execution_count": 73,
   "metadata": {},
   "outputs": [],
   "source": [
    "model_path = \"models/rhcp_model_res.h5\"\n",
    "model = load_model(model_path)"
   ]
  },
  {
   "cell_type": "code",
   "execution_count": 74,
   "metadata": {},
   "outputs": [],
   "source": [
    "def generate_output(prediction_length=400, static=False, lyrics_input=None, temperature=0.1):\n",
    "    usr_input=lyrics_input\n",
    "    generated = ''\n",
    "    if not static:\n",
    "        usr_input = input(\"Start typing the beginning of your lyrics. Lyric-genius will complete it.\\n Your input is: \")\n",
    "    # zero pad the sentence to Tx characters.\n",
    "    sentence = ('{0:0>' + str(Tx) + '}').format(usr_input).lower()\n",
    "    generated += usr_input \n",
    "\n",
    "    sys.stdout.write(\"\\n\\nGenerated Lyrics: \\n\\n\") \n",
    "    sys.stdout.write(usr_input)\n",
    "    for i in range(prediction_length):\n",
    "        predict_sequence = tk.texts_to_sequences([sentence])\n",
    "  \n",
    "        # Padding\n",
    "        predict_data = pad_sequences(predict_sequence, maxlen=Tx, padding='post')\n",
    "\n",
    "        # Convert to numpy array\n",
    "        x_pred = np.array(predict_data, dtype='float32')\n",
    "\n",
    "        preds = model.predict(x_pred, verbose=0)[0]\n",
    "        next_index = sample(preds, temperature = temperature)\n",
    "        next_char = alphabet[next_index]\n",
    "\n",
    "        generated += next_char\n",
    "        sentence = sentence[1:] + next_char\n",
    "\n",
    "        sys.stdout.write(next_char)\n",
    "        sys.stdout.flush()\n",
    "\n",
    "        if next_char == '\\n':\n",
    "            continue"
   ]
  },
  {
   "cell_type": "markdown",
   "metadata": {},
   "source": [
    "# Create Lyrics"
   ]
  },
  {
   "cell_type": "markdown",
   "metadata": {},
   "source": [
    "## Dynamic Generator"
   ]
  },
  {
   "cell_type": "code",
   "execution_count": 76,
   "metadata": {},
   "outputs": [
    {
     "name": "stdout",
     "output_type": "stream",
     "text": [
      "Start typing the beginning of your lyrics. Lyric-genius will complete it.\n",
      " Your input is: I know\n",
      "\n",
      "\n",
      "Generated Lyrics: \n",
      "\n",
      "I know\n",
      "\n",
      "i know i know i know i know i know i know i know i know i know i know i know i know i know i know i know i know i know i know i know i know i know i know i know i know i know i know i know i know i know i know i know i know i know i know i know i know i know i know i know i know i know i know i kn"
     ]
    }
   ],
   "source": [
    "# Tx is the length of the input\n",
    "generate_output(prediction_length=300, temperature=0.3)"
   ]
  },
  {
   "cell_type": "markdown",
   "metadata": {},
   "source": [
    "## Static Generator"
   ]
  },
  {
   "cell_type": "code",
   "execution_count": 77,
   "metadata": {},
   "outputs": [
    {
     "name": "stdout",
     "output_type": "stream",
     "text": [
      "\n",
      "\n",
      "Generated Lyrics: \n",
      "\n",
      "All around the world boy boy be be be a baby, baby, baby, make my mind a man a man\n",
      "take me a face of a spiliur the face\n",
      "\n",
      "the sun the brother something and the sun\n",
      "\n",
      "\n",
      "i know i know i know i know i know i know i know i know i don't know i know i know i know i know i know i know i know i know i know i know\n",
      "\n",
      "i know i know i "
     ]
    }
   ],
   "source": [
    "lyrics_input = \"All around the world \"\n",
    "\n",
    "import warnings\n",
    "warnings.filterwarnings('ignore')\n",
    "\n",
    "\n",
    "generate_output(prediction_length=300, static=True, lyrics_input=lyrics_input, temperature =0.3)"
   ]
  },
  {
   "cell_type": "code",
   "execution_count": null,
   "metadata": {},
   "outputs": [],
   "source": []
  },
  {
   "cell_type": "code",
   "execution_count": null,
   "metadata": {},
   "outputs": [],
   "source": []
  }
 ],
 "metadata": {
  "kernelspec": {
   "display_name": "Python 3",
   "language": "python",
   "name": "python3"
  },
  "language_info": {
   "codemirror_mode": {
    "name": "ipython",
    "version": 3
   },
   "file_extension": ".py",
   "mimetype": "text/x-python",
   "name": "python",
   "nbconvert_exporter": "python",
   "pygments_lexer": "ipython3",
   "version": "3.7.4"
  }
 },
 "nbformat": 4,
 "nbformat_minor": 2
}
