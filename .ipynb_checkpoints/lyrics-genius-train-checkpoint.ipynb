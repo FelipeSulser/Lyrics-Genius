{
 "cells": [
  {
   "cell_type": "code",
   "execution_count": 26,
   "metadata": {},
   "outputs": [],
   "source": [
    "from __future__ import print_function\n",
    "from keras.callbacks import LambdaCallback\n",
    "from keras.models import Model, load_model, Sequential\n",
    "from keras.layers import Dense, Activation, Dropout, Input, Masking, Embedding, InputLayer\n",
    "from keras.layers import LSTM, Lambda, concatenate, Bidirectional, Concatenate, SpatialDropout1D\n",
    "\n",
    "from keras.utils.vis_utils import plot_model\n",
    "import keras\n",
    "from keras.layers.merge import add\n",
    "import pydot\n",
    "import numpy as np\n",
    "from keras.utils.data_utils import get_file\n",
    "from keras.preprocessing.sequence import pad_sequences\n",
    "import sys\n",
    "import io"
   ]
  },
  {
   "cell_type": "markdown",
   "metadata": {},
   "source": [
    "# Loading Training Data"
   ]
  },
  {
   "cell_type": "code",
   "execution_count": 27,
   "metadata": {},
   "outputs": [
    {
     "name": "stdout",
     "output_type": "stream",
     "text": [
      "Loading text data...\n",
      "corpus length: 45186\n"
     ]
    }
   ],
   "source": [
    "print(\"Loading text data...\")\n",
    "text = io.open('data/atahualpa-yupanqui-lyrics.txt', encoding='utf-8').read().lower()\n",
    "print('corpus length:', len(text))\n"
   ]
  },
  {
   "cell_type": "code",
   "execution_count": 28,
   "metadata": {},
   "outputs": [
    {
     "name": "stdout",
     "output_type": "stream",
     "text": [
      "number of unique characters in the corpus: 44\n"
     ]
    }
   ],
   "source": [
    "Tx = 30\n",
    "chars = sorted(list(set(text)))\n",
    "num_classes = len(chars)\n",
    "char_indices = dict((c, i) for i, c in enumerate(chars))\n",
    "indices_char = dict((i, c) for i, c in enumerate(chars))\n",
    "print('number of unique characters in the corpus:', len(chars))\n"
   ]
  },
  {
   "cell_type": "code",
   "execution_count": 29,
   "metadata": {},
   "outputs": [],
   "source": [
    "def build_data(text, Tx = 30, stride = 3):\n",
    "    \"\"\"\n",
    "    Create a training set by scanning a window of size Tx over the text corpus, with stride 3.\n",
    "    \n",
    "    Arguments:\n",
    "    text -- string, corpus of Shakespearian poem\n",
    "    Tx -- sequence length, number of time-steps (or characters) in one training example\n",
    "    stride -- how much the window shifts itself while scanning\n",
    "    \n",
    "    Returns:\n",
    "    X -- list of training examples\n",
    "    Y -- list of training labels\n",
    "    \"\"\"\n",
    "    \n",
    "    X = []\n",
    "    Y = []\n",
    "\n",
    "    for i in range(0, len(text) - Tx, stride):\n",
    "        X.append(text[i: i + Tx])\n",
    "        Y.append(text[i + Tx])\n",
    "\n",
    "    \n",
    "    print('number of training examples:', len(X))\n",
    "    \n",
    "    return X, Y"
   ]
  },
  {
   "cell_type": "code",
   "execution_count": 30,
   "metadata": {},
   "outputs": [],
   "source": [
    "def vectorization(X, Y, n_x, char_indices, Tx = 30):\n",
    "    \"\"\"\n",
    "    Convert X and Y (lists) into arrays to be given to a recurrent neural network.\n",
    "    \n",
    "    Arguments:\n",
    "    X -- List of training examples\n",
    "    Y -- List of training labels\n",
    "    Tx -- integer, sequence length\n",
    "    \n",
    "    Returns:\n",
    "    x -- array of shape (m, Tx, len(chars))\n",
    "    y -- array of shape (m, len(chars))\n",
    "    \"\"\"\n",
    "    \n",
    "    m = len(X)\n",
    "    x = np.zeros((m, Tx, n_x), dtype=np.bool)\n",
    "    y = np.zeros((m, n_x), dtype=np.bool)\n",
    "    for i, sentence in enumerate(X):\n",
    "        for t, char in enumerate(sentence):\n",
    "            x[i, t, char_indices[char]] = 1\n",
    "        y[i, char_indices[Y[i]]] = 1\n",
    "        \n",
    "    return x, y "
   ]
  },
  {
   "cell_type": "markdown",
   "metadata": {},
   "source": [
    "# Create Training Set and Vectorize Data"
   ]
  },
  {
   "cell_type": "code",
   "execution_count": 31,
   "metadata": {},
   "outputs": [
    {
     "name": "stdout",
     "output_type": "stream",
     "text": [
      "Creating training set...\n",
      "number of training examples: 15052\n",
      "Vectorizing training set...\n",
      "Loading model...\n"
     ]
    }
   ],
   "source": [
    "print(\"Creating training set...\")\n",
    "X, Y = build_data(text, Tx=Tx, stride = 3)\n",
    "print(\"Vectorizing training set...\")\n",
    "x, y = vectorization(X, Y, n_x = len(chars), char_indices = char_indices, Tx=Tx) \n",
    "print(\"Loading model...\")"
   ]
  },
  {
   "cell_type": "markdown",
   "metadata": {},
   "source": [
    "# Building the Model"
   ]
  },
  {
   "cell_type": "code",
   "execution_count": 32,
   "metadata": {},
   "outputs": [],
   "source": [
    "model_config = {\n",
    "    'rnn_width': 64,\n",
    "    'rnn_depth': 3,\n",
    "    'rnn_dropout': 0.3,\n",
    "    'bidirectional': True\n",
    "}"
   ]
  },
  {
   "cell_type": "code",
   "execution_count": 92,
   "metadata": {},
   "outputs": [],
   "source": [
    "continue_learning = True\n",
    "model_path = \"models/atahualpa_model_res.h5\""
   ]
  },
  {
   "cell_type": "code",
   "execution_count": 93,
   "metadata": {},
   "outputs": [],
   "source": [
    "def new_lstm_cell(rnn_width, rnn_dropout, bidirectional=True, return_sequences=False):\n",
    "    if bidirectional:\n",
    "        return Bidirectional(LSTM(rnn_width, recurrent_dropout=rnn_dropout, dropout=rnn_dropout,return_sequences=return_sequences))\n",
    "    else:\n",
    "        return LSTM(rnn_width, recurrent_dropout=rnn_dropout, dropout=rnn_dropout,return_sequences=return_sequences)"
   ]
  },
  {
   "cell_type": "code",
   "execution_count": 94,
   "metadata": {},
   "outputs": [],
   "source": [
    "def make_lstm_layers(input, rnn_width, rnn_depth, rnn_dropout, bidirectional=True):\n",
    "    layer_list = []\n",
    "    layer = input\n",
    "    for i in range(rnn_depth):\n",
    "        return_sequences = i < rnn_depth - 1\n",
    "        prev_layer = input if i == 0 else layer_list[-1]\n",
    "        layer = new_lstm_cell(rnn_width, rnn_dropout, bidirectional=bidirectional, return_sequences=return_sequences)\n",
    "        \n",
    "        layer_list.append(layer)\n",
    "    return layer, layer_list\n",
    "    "
   ]
  },
  {
   "cell_type": "code",
   "execution_count": 95,
   "metadata": {},
   "outputs": [],
   "source": [
    "def make_residual_lstm_layers(input, rnn_width, rnn_depth, rnn_dropout, bidirectional=True):\n",
    "    \"\"\"\n",
    "    The intermediate LSTM layers return sequences, while the last returns a single element.\n",
    "    The input is also a sequence. In order to match the shape of input and output of the LSTM\n",
    "    to sum them we can do it only for all layers but the last.\n",
    "    \"\"\"\n",
    "    x = input\n",
    "    layer_list = []\n",
    "    for i in range(rnn_depth):\n",
    "        return_sequences = i < rnn_depth - 1\n",
    "        x_rnn = Bidirectional(LSTM(rnn_width, recurrent_dropout=rnn_dropout, dropout=rnn_dropout, return_sequences=return_sequences))(x)\n",
    "        if return_sequences:\n",
    "            # Intermediate layers return sequences, input is also a sequence.\n",
    "            if i > 0 or input.shape[-1] == rnn_width:\n",
    "                x = add([x, x_rnn])\n",
    "            else:\n",
    "                # Note that the input size and RNN output has to match, due to the sum operation.\n",
    "                # If we want different rnn_width, we'd have to perform the sum from layer 2 on.\n",
    "                x = x_rnn\n",
    "        else:\n",
    "            # Last layer does not return sequences, just the last element\n",
    "            # so we select only the last element of the previous output.\n",
    "            def slice_last(x):\n",
    "                return x[..., -1, :]\n",
    "            x = add([Lambda(slice_last)(x), x_rnn])\n",
    "        layer_list.append(x_rnn)\n",
    "    return x, layer_list"
   ]
  },
  {
   "cell_type": "code",
   "execution_count": 96,
   "metadata": {},
   "outputs": [],
   "source": [
    "def create_model_residual():\n",
    "    inputs = keras.Input(shape=(Tx,len(chars)))\n",
    "    lstm_layer, layer_list = make_residual_lstm_layers(inputs, **model_config)\n",
    "    dense_layer = keras.layers.Dense(len(chars), activation='softmax')(lstm_layer)\n",
    "    model = keras.Model(inputs=inputs, outputs=dense_layer)\n",
    "    optimizer = keras.optimizers.Adam(learning_rate=4e-3)\n",
    "    model.compile( loss='categorical_crossentropy', optimizer=optimizer)\n",
    "    return model"
   ]
  },
  {
   "cell_type": "code",
   "execution_count": 97,
   "metadata": {},
   "outputs": [],
   "source": [
    "# Simple Deep LSTM Model without Residual Units\n",
    "def create_model():\n",
    "    model = Sequential()\n",
    "    model.add(InputLayer(input_shape=(Tx, len(chars))))\n",
    "    model.add(LSTM(128, input_shape=(Tx, len(chars)), return_sequences=True))\n",
    "    model.add(Dropout(0.5))\n",
    "    model.add(LSTM(128))\n",
    "    model.add(Dropout(0.5))\n",
    "    model.add(Dense(len(chars), activation='softmax'))\n",
    "\n",
    "    optimizer = keras.optimizers.Adam(learning_rate=4e-3)\n",
    "    model.compile(loss='categorical_crossentropy', optimizer=optimizer)\n",
    "    return model"
   ]
  },
  {
   "cell_type": "code",
   "execution_count": 98,
   "metadata": {},
   "outputs": [],
   "source": [
    "model = None\n",
    "if continue_learning:\n",
    "    model = load_model(model_path)\n",
    "else:\n",
    "    model = create_model_residual()"
   ]
  },
  {
   "cell_type": "code",
   "execution_count": 99,
   "metadata": {},
   "outputs": [
    {
     "name": "stdout",
     "output_type": "stream",
     "text": [
      "Model: \"model_2\"\n",
      "__________________________________________________________________________________________________\n",
      "Layer (type)                    Output Shape         Param #     Connected to                     \n",
      "==================================================================================================\n",
      "input_2 (InputLayer)            (None, 30, 44)       0                                            \n",
      "__________________________________________________________________________________________________\n",
      "bidirectional_5 (Bidirectional) (None, 30, 100)      38000       input_2[0][0]                    \n",
      "__________________________________________________________________________________________________\n",
      "bidirectional_6 (Bidirectional) (None, 30, 100)      60400       bidirectional_5[0][0]            \n",
      "__________________________________________________________________________________________________\n",
      "add_4 (Add)                     (None, 30, 100)      0           bidirectional_5[0][0]            \n",
      "                                                                 bidirectional_6[0][0]            \n",
      "__________________________________________________________________________________________________\n",
      "bidirectional_7 (Bidirectional) (None, 30, 100)      60400       add_4[0][0]                      \n",
      "__________________________________________________________________________________________________\n",
      "add_5 (Add)                     (None, 30, 100)      0           add_4[0][0]                      \n",
      "                                                                 bidirectional_7[0][0]            \n",
      "__________________________________________________________________________________________________\n",
      "lambda_2 (Lambda)               (None, 100)          0           add_5[0][0]                      \n",
      "__________________________________________________________________________________________________\n",
      "bidirectional_8 (Bidirectional) (None, 100)          60400       add_5[0][0]                      \n",
      "__________________________________________________________________________________________________\n",
      "add_6 (Add)                     (None, 100)          0           lambda_2[0][0]                   \n",
      "                                                                 bidirectional_8[0][0]            \n",
      "__________________________________________________________________________________________________\n",
      "dense_2 (Dense)                 (None, 44)           4444        add_6[0][0]                      \n",
      "==================================================================================================\n",
      "Total params: 223,644\n",
      "Trainable params: 223,644\n",
      "Non-trainable params: 0\n",
      "__________________________________________________________________________________________________\n"
     ]
    }
   ],
   "source": [
    "model.summary()"
   ]
  },
  {
   "cell_type": "code",
   "execution_count": 100,
   "metadata": {},
   "outputs": [],
   "source": [
    "def sample(preds, temperature=1.0):\n",
    "    # helper function to sample an index from a probability array\n",
    "    preds = np.asarray(preds).astype('float64')\n",
    "    preds = np.log(preds) / temperature\n",
    "    exp_preds = np.exp(preds)\n",
    "    preds = exp_preds / np.sum(exp_preds)\n",
    "    probas = np.random.multinomial(1, preds, 1)\n",
    "    out = np.random.choice(range(len(chars)), p = probas.ravel())\n",
    "    return out"
   ]
  },
  {
   "cell_type": "code",
   "execution_count": 101,
   "metadata": {
    "scrolled": true
   },
   "outputs": [
    {
     "name": "stdout",
     "output_type": "stream",
     "text": [
      "Epoch 1/1\n",
      "15052/15052 [==============================] - 34s 2ms/step - loss: 1.2075\n"
     ]
    }
   ],
   "source": [
    "history = model.fit(x, y, batch_size=128, epochs=1, verbose=True)"
   ]
  },
  {
   "cell_type": "code",
   "execution_count": 76,
   "metadata": {},
   "outputs": [],
   "source": [
    "import matplotlib.pyplot as plt\n",
    "plt.style.use('ggplot')\n",
    "\n",
    "def plot_history(history):\n",
    "\n",
    "    loss = history.history['loss']\n",
    "    x = range(1, len(loss) + 1)\n",
    "\n",
    "\n",
    "    plt.plot(x, loss, 'b', label='Training loss')\n",
    "    plt.title('Training loss')\n",
    "    plt.legend()"
   ]
  },
  {
   "cell_type": "code",
   "execution_count": 77,
   "metadata": {},
   "outputs": [
    {
     "data": {
      "image/png": "[encoded data removed]",
      "text/plain": [
       "<Figure size 432x288 with 1 Axes>"
      ]
     },
     "metadata": {},
     "output_type": "display_data"
    }
   ],
   "source": [
    "plot_history(history)"
   ]
  },
  {
   "cell_type": "code",
   "execution_count": 78,
   "metadata": {},
   "outputs": [
    {
     "name": "stdout",
     "output_type": "stream",
     "text": [
      "Saved model to disk\n"
     ]
    }
   ],
   "source": [
    "# serialize weights to HDF5\n",
    "model.save(\"models/atahualpa_model_res.h5\", overwrite=True)\n",
    "print(\"Saved model to disk\")"
   ]
  },
  {
   "cell_type": "code",
   "execution_count": 102,
   "metadata": {},
   "outputs": [],
   "source": [
    "def generate_output(temperature=1.0):\n",
    "    generated = ''\n",
    "    usr_input = input(\"Start typing the beginning of your lyrics. Lyric-genius will complete it.\\n Your input is: \")\n",
    "    # zero pad the sentence to Tx characters.\n",
    "    sentence = ('{0:0>' + str(Tx) + '}').format(usr_input).lower()\n",
    "    generated += usr_input \n",
    "\n",
    "    sys.stdout.write(\"\\n\\nHere is your poem: \\n\\n\") \n",
    "    sys.stdout.write(usr_input)\n",
    "    for i in range(300):\n",
    "\n",
    "        x_pred = np.zeros((1, Tx, len(chars)))\n",
    "        \n",
    "        for t, char in enumerate(sentence):\n",
    "            if char != '0':\n",
    "                x_pred[0, t, char_indices[char]] = 1.\n",
    "\n",
    "        preds = model.predict(x_pred, verbose=0)[0]\n",
    "        next_index = sample(preds, temperature = temperature)\n",
    "        next_char = indices_char[next_index]\n",
    "\n",
    "        generated += next_char\n",
    "        sentence = sentence[1:] + next_char\n",
    "\n",
    "        sys.stdout.write(next_char)\n",
    "        sys.stdout.flush()\n",
    "\n",
    "        if next_char == '\\n':\n",
    "            continue"
   ]
  },
  {
   "cell_type": "code",
   "execution_count": 105,
   "metadata": {},
   "outputs": [
    {
     "name": "stdout",
     "output_type": "stream",
     "text": [
      "Start typing the beginning of your lyrics. Lyric-genius will complete it.\n",
      " Your input is: Mi conocimiento \n",
      "\n",
      "\n",
      "Here is your poem: \n",
      "\n",
      "Mi conocimiento \n",
      "que suelo trechas anduvo \n",
      "que es camino se lo quedará\n",
      "\n",
      "te que no lo pencen anduvo\n",
      "que es su voy paiso el muero \n",
      "que es el arriero va\n",
      "vivivo te andaré\n",
      "cuando los has fretes de sus golo de la misar\n",
      "en la monta galora del lena\n",
      "\n",
      "cuando en la mirarte \n",
      "tando al salito de la mistar\n",
      "si caballo, traiso \n",
      "hom"
     ]
    }
   ],
   "source": [
    "generate_output(temperature=0.3)"
   ]
  },
  {
   "cell_type": "code",
   "execution_count": null,
   "metadata": {},
   "outputs": [],
   "source": []
  },
  {
   "cell_type": "code",
   "execution_count": null,
   "metadata": {},
   "outputs": [],
   "source": []
  }
 ],
 "metadata": {
  "kernelspec": {
   "display_name": "Python 3",
   "language": "python",
   "name": "python3"
  },
  "language_info": {
   "codemirror_mode": {
    "name": "ipython",
    "version": 3
   },
   "file_extension": ".py",
   "mimetype": "text/x-python",
   "name": "python",
   "nbconvert_exporter": "python",
   "pygments_lexer": "ipython3",
   "version": "3.7.4"
  }
 },
 "nbformat": 4,
 "nbformat_minor": 2
}
